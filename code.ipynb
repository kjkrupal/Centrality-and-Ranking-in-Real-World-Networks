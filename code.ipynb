{
 "cells": [
  {
   "cell_type": "code",
   "execution_count": 3,
   "metadata": {},
   "outputs": [],
   "source": [
    "from igraph import *\n",
    "import numpy as np\n",
    "import pandas as pd"
   ]
  },
  {
   "cell_type": "markdown",
   "metadata": {},
   "source": [
    "### Read Graphs"
   ]
  },
  {
   "cell_type": "code",
   "execution_count": 5,
   "metadata": {},
   "outputs": [],
   "source": [
    "neural = Graph.Read('datasets/neural.gml')\n",
    "political = Graph.Read('datasets/political.gml')\n",
    "internet = Graph.Read('datasets/internet.gml')\n",
    "collab = Graph.Read('datasets/collab.gml')"
   ]
  },
  {
   "cell_type": "markdown",
   "metadata": {},
   "source": [
    "The fourth graph I have chosen i contains the collaboration network of scientists posting preprints on the high-energy theory archive at www.arxiv.org, 1995-1999, as compiled by M. Newman.  The network is weighted, with weights assigned as described in the original papers.\n",
    "\n",
    "The url for the dataset is: http://www-personal.umich.edu/~mejn/netdata/hep-th.zip"
   ]
  },
  {
   "cell_type": "markdown",
   "metadata": {},
   "source": [
    "### Report the node which has highest score for following measures\n",
    "\n",
    "* Degree\n",
    "* Eccentricity\n",
    "* Closeness\n",
    "* Betweenness\n",
    "* Katz index\n",
    "* PageRank\n",
    "* Kleinberg’s Authority score\n",
    "* Kleinberg’s Hub score."
   ]
  },
  {
   "cell_type": "code",
   "execution_count": 19,
   "metadata": {},
   "outputs": [],
   "source": [
    "# Name of network\n",
    "Network = [\n",
    "    \"Neural network\",\n",
    "    \"Political blogs\",\n",
    "    \"Internet\",\n",
    "    \"Collaborations\"\n",
    "]"
   ]
  },
  {
   "cell_type": "code",
   "execution_count": 20,
   "metadata": {},
   "outputs": [],
   "source": [
    "# Degree\n",
    "Degree = [\n",
    "    neural.degree().index(max(neural.degree())),\n",
    "    political.degree().index(max(political.degree())),\n",
    "    internet.degree().index(max(internet.degree())),\n",
    "    collab.degree().index(max(collab.degree()))\n",
    "]"
   ]
  },
  {
   "cell_type": "code",
   "execution_count": 22,
   "metadata": {},
   "outputs": [],
   "source": [
    "# Eccentricity\n",
    "Eccentricity = [\n",
    "    neural.eccentricity().index(max(neural.eccentricity())),\n",
    "    political.eccentricity().index(max(political.eccentricity())),\n",
    "    internet.eccentricity().index(max(internet.eccentricity())),\n",
    "    collab.eccentricity().index(max(collab.eccentricity()))\n",
    "]"
   ]
  },
  {
   "cell_type": "code",
   "execution_count": 23,
   "metadata": {},
   "outputs": [],
   "source": [
    "#Closeness\n",
    "Closeness = [\n",
    "    neural.closeness().index(max(neural.closeness())),\n",
    "    political.closeness().index(max(political.closeness())),\n",
    "    internet.closeness().index(max(internet.closeness())),\n",
    "    collab.closeness().index(max(collab.closeness()))\n",
    "]"
   ]
  },
  {
   "cell_type": "code",
   "execution_count": 24,
   "metadata": {},
   "outputs": [],
   "source": [
    "# Betweenness\n",
    "Betweenness = [\n",
    "    neural.betweenness().index(max(neural.betweenness())),\n",
    "    political.betweenness().index(max(political.betweenness())),\n",
    "    internet.betweenness().index(max(internet.betweenness())),\n",
    "    collab.betweenness().index(max(collab.betweenness()))\n",
    "]"
   ]
  },
  {
   "cell_type": "code",
   "execution_count": 35,
   "metadata": {},
   "outputs": [],
   "source": [
    "# Katz index\n",
    "Katz_index = [\n",
    "    None,\n",
    "    None,\n",
    "    None,\n",
    "    None\n",
    "]"
   ]
  },
  {
   "cell_type": "code",
   "execution_count": 27,
   "metadata": {},
   "outputs": [],
   "source": [
    "# PageRank\n",
    "PageRank = [\n",
    "    neural.pagerank().index(max(neural.pagerank())),\n",
    "    political.pagerank().index(max(political.pagerank())),\n",
    "    internet.pagerank().index(max(internet.pagerank())),\n",
    "    collab.pagerank().index(max(collab.pagerank()))\n",
    "]"
   ]
  },
  {
   "cell_type": "code",
   "execution_count": 31,
   "metadata": {},
   "outputs": [],
   "source": [
    "# Kleinberg’s Authority score\n",
    "Authority_score = [\n",
    "    neural.authority_score().index(max(neural.authority_score())),\n",
    "    political.authority_score().index(max(political.authority_score())),\n",
    "    internet.authority_score().index(max(internet.authority_score())),\n",
    "    collab.authority_score().index(max(collab.authority_score()))\n",
    "]"
   ]
  },
  {
   "cell_type": "code",
   "execution_count": 34,
   "metadata": {},
   "outputs": [],
   "source": [
    "# Kleinberg’s Hub score\n",
    "Hub_score = [\n",
    "    neural.hub_score().index(max(neural.hub_score())),\n",
    "    political.hub_score().index(max(political.hub_score())),\n",
    "    internet.hub_score().index(max(internet.hub_score())),\n",
    "    collab.hub_score().index(max(collab.hub_score()))\n",
    "]"
   ]
  },
  {
   "cell_type": "code",
   "execution_count": 36,
   "metadata": {},
   "outputs": [],
   "source": [
    "report_dict = [\n",
    "    ('Network', Network),\n",
    "    ('Degree', Degree),\n",
    "    ('Eccentricity', Eccentricity),\n",
    "    ('Closeness', Closeness),\n",
    "    ('Betweenness', Betweenness),\n",
    "    ('Katz index', Katz_index),\n",
    "    ('PageRank', PageRank),\n",
    "    ('Kleinberg’s Authority score', Authority_score),\n",
    "    ('Kleinberg’s Hub score', Hub_score)\n",
    "]"
   ]
  },
  {
   "cell_type": "code",
   "execution_count": 37,
   "metadata": {},
   "outputs": [
    {
     "name": "stderr",
     "output_type": "stream",
     "text": [
      "/anaconda3/envs/igraph/lib/python2.7/site-packages/ipykernel_launcher.py:1: FutureWarning: from_items is deprecated. Please use DataFrame.from_dict(dict(items), ...) instead. DataFrame.from_dict(OrderedDict(items)) may be used to preserve the key order.\n",
      "  \"\"\"Entry point for launching an IPython kernel.\n"
     ]
    }
   ],
   "source": [
    "report = pd.DataFrame.from_items(report_dict)"
   ]
  },
  {
   "cell_type": "code",
   "execution_count": 38,
   "metadata": {},
   "outputs": [
    {
     "data": {
      "text/html": [
       "<div>\n",
       "<style scoped>\n",
       "    .dataframe tbody tr th:only-of-type {\n",
       "        vertical-align: middle;\n",
       "    }\n",
       "\n",
       "    .dataframe tbody tr th {\n",
       "        vertical-align: top;\n",
       "    }\n",
       "\n",
       "    .dataframe thead th {\n",
       "        text-align: right;\n",
       "    }\n",
       "</style>\n",
       "<table border=\"1\" class=\"dataframe\">\n",
       "  <thead>\n",
       "    <tr style=\"text-align: right;\">\n",
       "      <th></th>\n",
       "      <th>Network</th>\n",
       "      <th>Degree</th>\n",
       "      <th>Eccentricity</th>\n",
       "      <th>Closeness</th>\n",
       "      <th>Betweenness</th>\n",
       "      <th>Katz index</th>\n",
       "      <th>PageRank</th>\n",
       "      <th>Kleinberg’s Authority score</th>\n",
       "      <th>Kleinberg’s Hub score</th>\n",
       "    </tr>\n",
       "  </thead>\n",
       "  <tbody>\n",
       "    <tr>\n",
       "      <th>0</th>\n",
       "      <td>Neural network</td>\n",
       "      <td>44</td>\n",
       "      <td>264</td>\n",
       "      <td>44</td>\n",
       "      <td>177</td>\n",
       "      <td>None</td>\n",
       "      <td>44</td>\n",
       "      <td>44</td>\n",
       "      <td>125</td>\n",
       "    </tr>\n",
       "    <tr>\n",
       "      <th>1</th>\n",
       "      <td>Political blogs</td>\n",
       "      <td>854</td>\n",
       "      <td>379</td>\n",
       "      <td>1050</td>\n",
       "      <td>854</td>\n",
       "      <td>None</td>\n",
       "      <td>154</td>\n",
       "      <td>154</td>\n",
       "      <td>511</td>\n",
       "    </tr>\n",
       "    <tr>\n",
       "      <th>2</th>\n",
       "      <td>Internet</td>\n",
       "      <td>3</td>\n",
       "      <td>9199</td>\n",
       "      <td>22</td>\n",
       "      <td>3</td>\n",
       "      <td>None</td>\n",
       "      <td>3</td>\n",
       "      <td>3</td>\n",
       "      <td>3</td>\n",
       "    </tr>\n",
       "    <tr>\n",
       "      <th>3</th>\n",
       "      <td>Collaborations</td>\n",
       "      <td>86</td>\n",
       "      <td>4779</td>\n",
       "      <td>167</td>\n",
       "      <td>23</td>\n",
       "      <td>None</td>\n",
       "      <td>86</td>\n",
       "      <td>6789</td>\n",
       "      <td>6789</td>\n",
       "    </tr>\n",
       "  </tbody>\n",
       "</table>\n",
       "</div>"
      ],
      "text/plain": [
       "           Network  Degree  Eccentricity  Closeness  Betweenness Katz index  \\\n",
       "0   Neural network      44           264         44          177       None   \n",
       "1  Political blogs     854           379       1050          854       None   \n",
       "2         Internet       3          9199         22            3       None   \n",
       "3   Collaborations      86          4779        167           23       None   \n",
       "\n",
       "   PageRank  Kleinberg’s Authority score  Kleinberg’s Hub score  \n",
       "0        44                           44                    125  \n",
       "1       154                          154                    511  \n",
       "2         3                            3                      3  \n",
       "3        86                         6789                   6789  "
      ]
     },
     "execution_count": 38,
     "metadata": {},
     "output_type": "execute_result"
    }
   ],
   "source": [
    "report"
   ]
  },
  {
   "cell_type": "code",
   "execution_count": null,
   "metadata": {},
   "outputs": [],
   "source": []
  }
 ],
 "metadata": {
  "kernelspec": {
   "display_name": "Python 2",
   "language": "python",
   "name": "python2"
  },
  "language_info": {
   "codemirror_mode": {
    "name": "ipython",
    "version": 2
   },
   "file_extension": ".py",
   "mimetype": "text/x-python",
   "name": "python",
   "nbconvert_exporter": "python",
   "pygments_lexer": "ipython2",
   "version": "2.7.15"
  }
 },
 "nbformat": 4,
 "nbformat_minor": 2
}
