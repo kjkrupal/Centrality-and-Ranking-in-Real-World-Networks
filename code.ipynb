{
 "cells": [
  {
   "cell_type": "code",
   "execution_count": 81,
   "metadata": {},
   "outputs": [],
   "source": [
    "from igraph import *\n",
    "import numpy as np\n",
    "import pandas as pd\n",
    "import matplotlib.pyplot as plt"
   ]
  },
  {
   "cell_type": "markdown",
   "metadata": {},
   "source": [
    "### Read Graphs"
   ]
  },
  {
   "cell_type": "code",
   "execution_count": 5,
   "metadata": {},
   "outputs": [],
   "source": [
    "neural = Graph.Read('datasets/neural.gml')\n",
    "political = Graph.Read('datasets/political.gml')\n",
    "internet = Graph.Read('datasets/internet.gml')\n",
    "collab = Graph.Read('datasets/collab.gml')"
   ]
  },
  {
   "cell_type": "markdown",
   "metadata": {},
   "source": [
    "The fourth graph I have chosen i contains the collaboration network of scientists posting preprints on the high-energy theory archive at www.arxiv.org, 1995-1999, as compiled by M. Newman.  The network is weighted, with weights assigned as described in the original papers.\n",
    "\n",
    "The url for the dataset is: http://www-personal.umich.edu/~mejn/netdata/hep-th.zip"
   ]
  },
  {
   "cell_type": "markdown",
   "metadata": {},
   "source": [
    "### Report the node which has highest score for following measures\n",
    "\n",
    "* Degree\n",
    "* Eccentricity\n",
    "* Closeness\n",
    "* Betweenness\n",
    "* Katz index\n",
    "* PageRank\n",
    "* Kleinberg’s Authority score\n",
    "* Kleinberg’s Hub score."
   ]
  },
  {
   "cell_type": "code",
   "execution_count": 19,
   "metadata": {},
   "outputs": [],
   "source": [
    "# Name of network\n",
    "Network = [\n",
    "    \"Neural network\",\n",
    "    \"Political blogs\",\n",
    "    \"Internet\",\n",
    "    \"Collaborations\"\n",
    "]"
   ]
  },
  {
   "cell_type": "code",
   "execution_count": 20,
   "metadata": {},
   "outputs": [],
   "source": [
    "# Degree\n",
    "Degree = [\n",
    "    neural.degree().index(max(neural.degree())),\n",
    "    political.degree().index(max(political.degree())),\n",
    "    internet.degree().index(max(internet.degree())),\n",
    "    collab.degree().index(max(collab.degree()))\n",
    "]"
   ]
  },
  {
   "cell_type": "code",
   "execution_count": 22,
   "metadata": {},
   "outputs": [],
   "source": [
    "# Eccentricity\n",
    "Eccentricity = [\n",
    "    neural.eccentricity().index(max(neural.eccentricity())),\n",
    "    political.eccentricity().index(max(political.eccentricity())),\n",
    "    internet.eccentricity().index(max(internet.eccentricity())),\n",
    "    collab.eccentricity().index(max(collab.eccentricity()))\n",
    "]"
   ]
  },
  {
   "cell_type": "code",
   "execution_count": 23,
   "metadata": {},
   "outputs": [],
   "source": [
    "#Closeness\n",
    "Closeness = [\n",
    "    neural.closeness().index(max(neural.closeness())),\n",
    "    political.closeness().index(max(political.closeness())),\n",
    "    internet.closeness().index(max(internet.closeness())),\n",
    "    collab.closeness().index(max(collab.closeness()))\n",
    "]"
   ]
  },
  {
   "cell_type": "code",
   "execution_count": 24,
   "metadata": {},
   "outputs": [],
   "source": [
    "# Betweenness\n",
    "Betweenness = [\n",
    "    neural.betweenness().index(max(neural.betweenness())),\n",
    "    political.betweenness().index(max(political.betweenness())),\n",
    "    internet.betweenness().index(max(internet.betweenness())),\n",
    "    collab.betweenness().index(max(collab.betweenness()))\n",
    "]"
   ]
  },
  {
   "cell_type": "code",
   "execution_count": 35,
   "metadata": {},
   "outputs": [],
   "source": [
    "# Katz index\n",
    "Katz_index = [\n",
    "    None,\n",
    "    None,\n",
    "    None,\n",
    "    None\n",
    "]"
   ]
  },
  {
   "cell_type": "code",
   "execution_count": 27,
   "metadata": {},
   "outputs": [],
   "source": [
    "# PageRank\n",
    "PageRank = [\n",
    "    neural.pagerank().index(max(neural.pagerank())),\n",
    "    political.pagerank().index(max(political.pagerank())),\n",
    "    internet.pagerank().index(max(internet.pagerank())),\n",
    "    collab.pagerank().index(max(collab.pagerank()))\n",
    "]"
   ]
  },
  {
   "cell_type": "code",
   "execution_count": 31,
   "metadata": {},
   "outputs": [],
   "source": [
    "# Kleinberg’s Authority score\n",
    "Authority_score = [\n",
    "    neural.authority_score().index(max(neural.authority_score())),\n",
    "    political.authority_score().index(max(political.authority_score())),\n",
    "    internet.authority_score().index(max(internet.authority_score())),\n",
    "    collab.authority_score().index(max(collab.authority_score()))\n",
    "]"
   ]
  },
  {
   "cell_type": "code",
   "execution_count": 34,
   "metadata": {},
   "outputs": [],
   "source": [
    "# Kleinberg’s Hub score\n",
    "Hub_score = [\n",
    "    neural.hub_score().index(max(neural.hub_score())),\n",
    "    political.hub_score().index(max(political.hub_score())),\n",
    "    internet.hub_score().index(max(internet.hub_score())),\n",
    "    collab.hub_score().index(max(collab.hub_score()))\n",
    "]"
   ]
  },
  {
   "cell_type": "code",
   "execution_count": 36,
   "metadata": {},
   "outputs": [],
   "source": [
    "report_dict = [\n",
    "    ('Network', Network),\n",
    "    ('Degree', Degree),\n",
    "    ('Eccentricity', Eccentricity),\n",
    "    ('Closeness', Closeness),\n",
    "    ('Betweenness', Betweenness),\n",
    "    ('Katz index', Katz_index),\n",
    "    ('PageRank', PageRank),\n",
    "    ('Kleinberg’s Authority score', Authority_score),\n",
    "    ('Kleinberg’s Hub score', Hub_score)\n",
    "]"
   ]
  },
  {
   "cell_type": "code",
   "execution_count": 37,
   "metadata": {},
   "outputs": [
    {
     "name": "stderr",
     "output_type": "stream",
     "text": [
      "/anaconda3/envs/igraph/lib/python2.7/site-packages/ipykernel_launcher.py:1: FutureWarning: from_items is deprecated. Please use DataFrame.from_dict(dict(items), ...) instead. DataFrame.from_dict(OrderedDict(items)) may be used to preserve the key order.\n",
      "  \"\"\"Entry point for launching an IPython kernel.\n"
     ]
    }
   ],
   "source": [
    "report = pd.DataFrame.from_items(report_dict)"
   ]
  },
  {
   "cell_type": "code",
   "execution_count": 38,
   "metadata": {},
   "outputs": [
    {
     "data": {
      "text/html": [
       "<div>\n",
       "<style scoped>\n",
       "    .dataframe tbody tr th:only-of-type {\n",
       "        vertical-align: middle;\n",
       "    }\n",
       "\n",
       "    .dataframe tbody tr th {\n",
       "        vertical-align: top;\n",
       "    }\n",
       "\n",
       "    .dataframe thead th {\n",
       "        text-align: right;\n",
       "    }\n",
       "</style>\n",
       "<table border=\"1\" class=\"dataframe\">\n",
       "  <thead>\n",
       "    <tr style=\"text-align: right;\">\n",
       "      <th></th>\n",
       "      <th>Network</th>\n",
       "      <th>Degree</th>\n",
       "      <th>Eccentricity</th>\n",
       "      <th>Closeness</th>\n",
       "      <th>Betweenness</th>\n",
       "      <th>Katz index</th>\n",
       "      <th>PageRank</th>\n",
       "      <th>Kleinberg’s Authority score</th>\n",
       "      <th>Kleinberg’s Hub score</th>\n",
       "    </tr>\n",
       "  </thead>\n",
       "  <tbody>\n",
       "    <tr>\n",
       "      <th>0</th>\n",
       "      <td>Neural network</td>\n",
       "      <td>44</td>\n",
       "      <td>264</td>\n",
       "      <td>44</td>\n",
       "      <td>177</td>\n",
       "      <td>None</td>\n",
       "      <td>44</td>\n",
       "      <td>44</td>\n",
       "      <td>125</td>\n",
       "    </tr>\n",
       "    <tr>\n",
       "      <th>1</th>\n",
       "      <td>Political blogs</td>\n",
       "      <td>854</td>\n",
       "      <td>379</td>\n",
       "      <td>1050</td>\n",
       "      <td>854</td>\n",
       "      <td>None</td>\n",
       "      <td>154</td>\n",
       "      <td>154</td>\n",
       "      <td>511</td>\n",
       "    </tr>\n",
       "    <tr>\n",
       "      <th>2</th>\n",
       "      <td>Internet</td>\n",
       "      <td>3</td>\n",
       "      <td>9199</td>\n",
       "      <td>22</td>\n",
       "      <td>3</td>\n",
       "      <td>None</td>\n",
       "      <td>3</td>\n",
       "      <td>3</td>\n",
       "      <td>3</td>\n",
       "    </tr>\n",
       "    <tr>\n",
       "      <th>3</th>\n",
       "      <td>Collaborations</td>\n",
       "      <td>86</td>\n",
       "      <td>4779</td>\n",
       "      <td>167</td>\n",
       "      <td>23</td>\n",
       "      <td>None</td>\n",
       "      <td>86</td>\n",
       "      <td>6789</td>\n",
       "      <td>6789</td>\n",
       "    </tr>\n",
       "  </tbody>\n",
       "</table>\n",
       "</div>"
      ],
      "text/plain": [
       "           Network  Degree  Eccentricity  Closeness  Betweenness Katz index  \\\n",
       "0   Neural network      44           264         44          177       None   \n",
       "1  Political blogs     854           379       1050          854       None   \n",
       "2         Internet       3          9199         22            3       None   \n",
       "3   Collaborations      86          4779        167           23       None   \n",
       "\n",
       "   PageRank  Kleinberg’s Authority score  Kleinberg’s Hub score  \n",
       "0        44                           44                    125  \n",
       "1       154                          154                    511  \n",
       "2         3                            3                      3  \n",
       "3        86                         6789                   6789  "
      ]
     },
     "execution_count": 38,
     "metadata": {},
     "output_type": "execute_result"
    }
   ],
   "source": [
    "report"
   ]
  },
  {
   "cell_type": "markdown",
   "metadata": {},
   "source": [
    "### Discussion\n",
    "\n",
    "- For neural network node-id 44 has highest degree, closeness, PageRank score and Kleinberg's authority score. So for this this network node 44 must be most important.\n",
    "- For Political blogs network, node-id 854 has highest degree and betweenness whereas node-id 154 has highest PageRank and Kleinberg's authority score.\n",
    "- For Internet network, node-id 3 has highest degree, betwenness, PageRank, Kleinberg's authority score and Kleinberg's hub score. For this network node 3 must be very important.\n",
    "- Collaborations network node-id 86 has highest degree and PageRank score whereas node-id 6789 has highest Kleinberg's authority score and Kleinberg's hub score."
   ]
  },
  {
   "cell_type": "markdown",
   "metadata": {},
   "source": [
    "### Generate random graphs"
   ]
  },
  {
   "cell_type": "code",
   "execution_count": 134,
   "metadata": {},
   "outputs": [],
   "source": [
    "erdos20 = Graph.Erdos_Renyi(n = 20, m = 80)\n",
    "erdos40 = Graph.Erdos_Renyi(n = 40, m = 120)\n",
    "barabasi20 = Graph.Barabasi(n = 20, m = 5, directed = False)\n",
    "barabasi40 = Graph.Barabasi(n = 40, m = 3, directed = False)"
   ]
  },
  {
   "cell_type": "code",
   "execution_count": 135,
   "metadata": {},
   "outputs": [],
   "source": [
    "# Calculate laplacians\n",
    "erdos20_lap = erdos20.laplacian()\n",
    "erdos40_lap = erdos40.laplacian()\n",
    "barabasi20_lap = barabasi20.laplacian()\n",
    "barabasi40_lap = barabasi40.laplacian()"
   ]
  },
  {
   "cell_type": "code",
   "execution_count": 120,
   "metadata": {},
   "outputs": [],
   "source": [
    "# Calculate eigen values and eigen vectors\n",
    "erdos20_vals, erdos20_vec = np.linalg.eig(erdos20_lap)\n",
    "erdos40_vals, erdos40_vec = np.linalg.eig(erdos40_lap)\n",
    "barabasi20_vals, barabasi20_vec = np.linalg.eig(barabasi20_lap)\n",
    "barabasi40_vals, barabasi40_vec = np.linalg.eig(barabasi40_lap)"
   ]
  },
  {
   "cell_type": "markdown",
   "metadata": {},
   "source": [
    "### Report the following\n",
    "\n",
    "* Number of nodes \n",
    "* Number of edges \n",
    "* Minimum degree\n",
    "* Maximum degree \n",
    "* Average path length\n",
    "* Diameter\n",
    "* Global clustering coefficient\n",
    "* Second smallest eigenvalue \n",
    "* Largest eigenvalue"
   ]
  },
  {
   "cell_type": "code",
   "execution_count": 148,
   "metadata": {},
   "outputs": [],
   "source": [
    "# Name of graph\n",
    "Graphs = [\n",
    "    'Erdos-Renyi 20',\n",
    "    'Erdos-Renyi 40',\n",
    "    'Barabasi-Albert 20',\n",
    "    'Barabasi-Albert 40'\n",
    "]"
   ]
  },
  {
   "cell_type": "code",
   "execution_count": 16,
   "metadata": {},
   "outputs": [],
   "source": [
    "# Number of nodes\n",
    "Nodes = [\n",
    "    erdos20.vcount(),\n",
    "    erdos40.vcount(),\n",
    "    barabasi20.vcount(),\n",
    "    barabasi40.vcount()\n",
    "]"
   ]
  },
  {
   "cell_type": "code",
   "execution_count": 17,
   "metadata": {},
   "outputs": [],
   "source": [
    "# Number of edges\n",
    "Edges = [\n",
    "    erdos20.ecount(),\n",
    "    erdos40.ecount(),\n",
    "    barabasi20.ecount(),\n",
    "    barabasi40.ecount()\n",
    "]"
   ]
  },
  {
   "cell_type": "code",
   "execution_count": 23,
   "metadata": {},
   "outputs": [],
   "source": [
    "# Minimum degree\n",
    "MinDegree = [\n",
    "    min(erdos20.degree()),\n",
    "    min(erdos40.degree()),\n",
    "    min(barabasi20.degree()),\n",
    "    min(barabasi40.degree())\n",
    "]"
   ]
  },
  {
   "cell_type": "code",
   "execution_count": 24,
   "metadata": {},
   "outputs": [],
   "source": [
    "# Maximum degree\n",
    "MaxDegree = [\n",
    "    erdos20.maxdegree(),\n",
    "    erdos40.maxdegree(),\n",
    "    barabasi20.maxdegree(),\n",
    "    barabasi40.maxdegree()\n",
    "]"
   ]
  },
  {
   "cell_type": "code",
   "execution_count": 141,
   "metadata": {},
   "outputs": [],
   "source": [
    "# Diameter\n",
    "Diameter = [\n",
    "    erdos20.diameter(),\n",
    "    erdos40.diameter(),\n",
    "    barabasi20.diameter(),\n",
    "    barabasi40.diameter()\n",
    "]"
   ]
  },
  {
   "cell_type": "code",
   "execution_count": 25,
   "metadata": {},
   "outputs": [],
   "source": [
    "# Average path length\n",
    "AvgPathLength = [\n",
    "    erdos20.average_path_length(),\n",
    "    erdos40.average_path_length(),\n",
    "    barabasi20.average_path_length(),\n",
    "    barabasi40.average_path_length()\n",
    "]"
   ]
  },
  {
   "cell_type": "code",
   "execution_count": 26,
   "metadata": {},
   "outputs": [],
   "source": [
    "# Global clustering coefficient\n",
    "GlobalClusteringCoefficient = [\n",
    "    erdos20.transitivity_undirected(),\n",
    "    erdos40.transitivity_undirected(),\n",
    "    barabasi20.transitivity_undirected(),\n",
    "    barabasi40.transitivity_undirected()\n",
    "]"
   ]
  },
  {
   "cell_type": "code",
   "execution_count": 36,
   "metadata": {},
   "outputs": [],
   "source": [
    "# Second smallest eigen value\n",
    "SmallEigValue = [\n",
    "    np.sort(erdos20_vals)[1],\n",
    "    np.sort(erdos40_vals)[1],\n",
    "    np.sort(barabasi20_vals)[1],\n",
    "    np.sort(barabasi40_vals)[1]\n",
    "]"
   ]
  },
  {
   "cell_type": "code",
   "execution_count": 34,
   "metadata": {},
   "outputs": [],
   "source": [
    "# Largest eigen value\n",
    "BigEigValue = [\n",
    "    np.amax(erdos20_vals),\n",
    "    np.amax(erdos40_vals),\n",
    "    np.amax(barabasi20_vals),\n",
    "    np.amax(barabasi40_vals)\n",
    "]"
   ]
  },
  {
   "cell_type": "code",
   "execution_count": 149,
   "metadata": {},
   "outputs": [],
   "source": [
    "report_dict = [\n",
    "    ('Network', Graphs),\n",
    "    ('Number of nodes', Nodes),\n",
    "    ('Number of edges', Edges),\n",
    "    ('Minimum Degree', MinDegree),\n",
    "    ('Maximum Degree', MaxDegree),\n",
    "    ('Diameter', Diameter),\n",
    "    ('Average Path Length', AvgPathLength),\n",
    "    ('Global Clustering Coefficient', GlobalClusteringCoefficient),\n",
    "    ('Second Smallest Eigen Value', SmallEigValue),\n",
    "    ('Largest Eigen Value', BigEigValue)\n",
    "]"
   ]
  },
  {
   "cell_type": "code",
   "execution_count": 150,
   "metadata": {},
   "outputs": [
    {
     "name": "stderr",
     "output_type": "stream",
     "text": [
      "c:\\users\\krupal.jadhav\\appdata\\local\\continuum\\miniconda3\\envs\\igraph\\lib\\site-packages\\ipykernel_launcher.py:1: FutureWarning: from_items is deprecated. Please use DataFrame.from_dict(dict(items), ...) instead. DataFrame.from_dict(OrderedDict(items)) may be used to preserve the key order.\n",
      "  \"\"\"Entry point for launching an IPython kernel.\n"
     ]
    }
   ],
   "source": [
    "report = pd.DataFrame.from_items(report_dict)"
   ]
  },
  {
   "cell_type": "code",
   "execution_count": 151,
   "metadata": {},
   "outputs": [
    {
     "data": {
      "text/html": [
       "<div>\n",
       "<style scoped>\n",
       "    .dataframe tbody tr th:only-of-type {\n",
       "        vertical-align: middle;\n",
       "    }\n",
       "\n",
       "    .dataframe tbody tr th {\n",
       "        vertical-align: top;\n",
       "    }\n",
       "\n",
       "    .dataframe thead th {\n",
       "        text-align: right;\n",
       "    }\n",
       "</style>\n",
       "<table border=\"1\" class=\"dataframe\">\n",
       "  <thead>\n",
       "    <tr style=\"text-align: right;\">\n",
       "      <th></th>\n",
       "      <th>Network</th>\n",
       "      <th>Number of nodes</th>\n",
       "      <th>Number of edges</th>\n",
       "      <th>Minimum Degree</th>\n",
       "      <th>Maximum Degree</th>\n",
       "      <th>Diameter</th>\n",
       "      <th>Average Path Length</th>\n",
       "      <th>Global Clustering Coefficient</th>\n",
       "      <th>Second Smallest Eigen Value</th>\n",
       "      <th>Largest Eigen Value</th>\n",
       "    </tr>\n",
       "  </thead>\n",
       "  <tbody>\n",
       "    <tr>\n",
       "      <th>0</th>\n",
       "      <td>Erdos-Renyi 20</td>\n",
       "      <td>20</td>\n",
       "      <td>80</td>\n",
       "      <td>5</td>\n",
       "      <td>12</td>\n",
       "      <td>3</td>\n",
       "      <td>1.589474</td>\n",
       "      <td>0.412252</td>\n",
       "      <td>3.594524</td>\n",
       "      <td>14.083235</td>\n",
       "    </tr>\n",
       "    <tr>\n",
       "      <th>1</th>\n",
       "      <td>Erdos-Renyi 40</td>\n",
       "      <td>40</td>\n",
       "      <td>120</td>\n",
       "      <td>3</td>\n",
       "      <td>11</td>\n",
       "      <td>4</td>\n",
       "      <td>2.197436</td>\n",
       "      <td>0.144796</td>\n",
       "      <td>1.501584</td>\n",
       "      <td>13.221036</td>\n",
       "    </tr>\n",
       "    <tr>\n",
       "      <th>2</th>\n",
       "      <td>Barabasi-Albert 20</td>\n",
       "      <td>20</td>\n",
       "      <td>85</td>\n",
       "      <td>5</td>\n",
       "      <td>18</td>\n",
       "      <td>2</td>\n",
       "      <td>1.552632</td>\n",
       "      <td>0.519298</td>\n",
       "      <td>4.058273</td>\n",
       "      <td>19.051443</td>\n",
       "    </tr>\n",
       "    <tr>\n",
       "      <th>3</th>\n",
       "      <td>Barabasi-Albert 40</td>\n",
       "      <td>40</td>\n",
       "      <td>114</td>\n",
       "      <td>3</td>\n",
       "      <td>26</td>\n",
       "      <td>3</td>\n",
       "      <td>2.015385</td>\n",
       "      <td>0.224799</td>\n",
       "      <td>1.402212</td>\n",
       "      <td>27.106305</td>\n",
       "    </tr>\n",
       "  </tbody>\n",
       "</table>\n",
       "</div>"
      ],
      "text/plain": [
       "              Network  Number of nodes  Number of edges  Minimum Degree  \\\n",
       "0      Erdos-Renyi 20               20               80               5   \n",
       "1      Erdos-Renyi 40               40              120               3   \n",
       "2  Barabasi-Albert 20               20               85               5   \n",
       "3  Barabasi-Albert 40               40              114               3   \n",
       "\n",
       "   Maximum Degree  Diameter  Average Path Length  \\\n",
       "0              12         3             1.589474   \n",
       "1              11         4             2.197436   \n",
       "2              18         2             1.552632   \n",
       "3              26         3             2.015385   \n",
       "\n",
       "   Global Clustering Coefficient  Second Smallest Eigen Value  \\\n",
       "0                       0.412252                     3.594524   \n",
       "1                       0.144796                     1.501584   \n",
       "2                       0.519298                     4.058273   \n",
       "3                       0.224799                     1.402212   \n",
       "\n",
       "   Largest Eigen Value  \n",
       "0            14.083235  \n",
       "1            13.221036  \n",
       "2            19.051443  \n",
       "3            27.106305  "
      ]
     },
     "execution_count": 151,
     "metadata": {},
     "output_type": "execute_result"
    }
   ],
   "source": [
    "report"
   ]
  },
  {
   "cell_type": "markdown",
   "metadata": {},
   "source": [
    "### Discussion\n",
    "\n",
    "- Both the Erdos-Renyi and Barabasi-Albert graphs to same number of nodes have almost same number or edges.\n",
    "- The minimum degree for both graphs with same number of nodes are same (5 for 20 nodes graph and 3 for 40 nodes graph).\n",
    "- The average path length for both graphs with same number of nodes is also almost same (~1.5 for 20 nodes graph and ~2.1 for 40 nodes graph).\n",
    "- The maximum degree for Barabasi-Alberts graphs are much higher than Erdos-Renyi graphs.\n",
    "- The global clustering coefficient for graphs with 40 nodes is quite low as compared to graphs with 20 nodes.\n",
    "- The second smallest eigen values for graphs with 20 nodes is very much higher than graphs with 40 nodes."
   ]
  },
  {
   "cell_type": "markdown",
   "metadata": {},
   "source": [
    "### Recompute eigen values and vectors (as sorting above shifted the positions)"
   ]
  },
  {
   "cell_type": "code",
   "execution_count": 136,
   "metadata": {},
   "outputs": [],
   "source": [
    "erdos20_vals, erdos20_vec = np.linalg.eig(erdos20_lap)\n",
    "erdos40_vals, erdos40_vec = np.linalg.eig(erdos40_lap)\n",
    "barabasi20_vals, barabasi20_vec = np.linalg.eig(barabasi20_lap)\n",
    "barabasi40_vals, barabasi40_vec = np.linalg.eig(barabasi40_lap)"
   ]
  },
  {
   "cell_type": "code",
   "execution_count": 137,
   "metadata": {},
   "outputs": [],
   "source": [
    "erdos20_dict = dict(zip(erdos20_vals, erdos20_vec))\n",
    "erdos40_dict = dict(zip(erdos40_vals, erdos40_vec))\n",
    "barabasi20_dict = dict(zip(barabasi20_vals, barabasi20_vec))\n",
    "barabasi40_dict = dict(zip(barabasi40_vals, barabasi40_vec))"
   ]
  },
  {
   "cell_type": "code",
   "execution_count": 138,
   "metadata": {},
   "outputs": [],
   "source": [
    "keys_erdos = erdos20_dict.keys()\n",
    "keys_erdos.sort()\n",
    "keys_barabasi = barabasi20_dict.keys()\n",
    "keys_barabasi.sort()"
   ]
  },
  {
   "cell_type": "code",
   "execution_count": 139,
   "metadata": {},
   "outputs": [],
   "source": [
    "erdos_small_eig_vec = erdos20_dict[keys_erdos[1]]\n",
    "erdos_large_eig_vec = erdos20_dict[keys_erdos[len(keys_erdos) - 1]]\n",
    "barabasi_small_eig_vec = barabasi20_dict[keys_barabasi[1]]\n",
    "barabasi_large_eig_vec = barabasi20_dict[keys_barabasi[len(keys_barabasi) - 1]]"
   ]
  },
  {
   "cell_type": "code",
   "execution_count": 140,
   "metadata": {},
   "outputs": [
    {
     "data": {
      "text/plain": [
       "<matplotlib.legend.Legend at 0x1f15a978>"
      ]
     },
     "execution_count": 140,
     "metadata": {},
     "output_type": "execute_result"
    },
    {
     "data": {
      "image/png": "[encoded data removed]",
      "text/plain": [
       "<Figure size 432x288 with 1 Axes>"
      ]
     },
     "metadata": {
      "needs_background": "light"
     },
     "output_type": "display_data"
    }
   ],
   "source": [
    "node_id = [i + 1 for i in range(20)]\n",
    "plt.plot(node_id, erdos_small_eig_vec, label = 'Second smallest eigen vector')\n",
    "plt.plot(node_id, erdos_large_eig_vec, label = 'Largest eigen vector')\n",
    "plt.xlabel('Node IDs')\n",
    "plt.ylabel('Value of Eigen Vector')\n",
    "plt.title('Erdos-Renyi Network')\n",
    "plt.xticks(node_id)\n",
    "plt.legend()"
   ]
  },
  {
   "cell_type": "code",
   "execution_count": 126,
   "metadata": {},
   "outputs": [
    {
     "data": {
      "text/plain": [
       "<matplotlib.legend.Legend at 0x1ecdf828>"
      ]
     },
     "execution_count": 126,
     "metadata": {},
     "output_type": "execute_result"
    },
    {
     "data": {
      "image/png": "[encoded data removed]",
      "text/plain": [
       "<Figure size 432x288 with 1 Axes>"
      ]
     },
     "metadata": {
      "needs_background": "light"
     },
     "output_type": "display_data"
    }
   ],
   "source": [
    "node_id = [i + 1 for i in range(20)]\n",
    "plt.plot(node_id, barabasi_small_eig_vec, label = 'Second smallest eigen vector')\n",
    "plt.plot(node_id, barabasi_large_eig_vec, label = 'Largest eigen vector')\n",
    "plt.xlabel('Node IDs')\n",
    "plt.ylabel('Value of Eigen Vector')\n",
    "plt.title('Barabasi-Albert Network')\n",
    "plt.xticks(node_id)\n",
    "plt.legend()"
   ]
  },
  {
   "cell_type": "markdown",
   "metadata": {},
   "source": [
    "### Discussion\n",
    "\n",
    "- Both the above graphs are erratic in nature. \n",
    "- The graph for Erdos-Renyi network is completely erratic, however, the graph for barabasi network, most of the values for eigen vector of largest eigen value are close to zero and values for eigen vector of second largest eigen value are somewhat close to zero."
   ]
  },
  {
   "cell_type": "markdown",
   "metadata": {},
   "source": [
    "## PageRank Beyond the Web\n",
    "\n",
    "PageRank Beyond the Web is an article which reviews Google's PageRank algorithm. There are various types of page rank such as: \n",
    "- Strongly Preferential PageRank \n",
    "- Weakly Preferential PageRank and Sink Preferential PageRank. \n",
    "- Reverse PageRank \n",
    "- Dirichlet PageRank \n",
    "- Weighted PageRank \n",
    "- PageRank on an Undirected Graph. \n",
    "\n",
    "Following applications of PageRank interested me:\n",
    "\n",
    "**1. PageRank in Biology and Bioinformatics**\n",
    "> The most interesting application that I found is the page rank in biology and bioinformatics. I particularly found this application interesting as I could relate it to Computational Genomics course which I took in Spring 2018. It is so amazing to see how something which was developed for web search engines could be applied in the field of biology. The genes and proteins those are highly related are found out using the ranking system. We can also study cancer deaths using page rank in genes.\n",
    "\n",
    "**2. PageRank in Social Networks**\n",
    "> Another interesting topic that I found is the page rank in social network. Facebook which is used by almost everyone makes a very good use of PageRank. It finds out people who have a potential to become friends through link prediction and can also find the most influential individuals in a social network. In these types of network, nodes are people and edges are relationship. For the evaluating the status and power of that person, page rank centrality can be used.\n",
    "\n",
    "**3. PageRank in Recommender Systems**\n",
    "> Applications such as Amazon and Netflix make recommendations for new products or movies by going through the past purchase and viewed history of the user. PageRank can be used in such applications to make better recommendations. A localized PageRank can aid in scoring all the potential items to be recommended thereby performing better recommendations."
   ]
  },
  {
   "cell_type": "code",
   "execution_count": null,
   "metadata": {},
   "outputs": [],
   "source": []
  }
 ],
 "metadata": {
  "kernelspec": {
   "display_name": "Python 2",
   "language": "python",
   "name": "python2"
  },
  "language_info": {
   "codemirror_mode": {
    "name": "ipython",
    "version": 2
   },
   "file_extension": ".py",
   "mimetype": "text/x-python",
   "name": "python",
   "nbconvert_exporter": "python",
   "pygments_lexer": "ipython2",
   "version": "2.7.15"
  }
 },
 "nbformat": 4,
 "nbformat_minor": 2
}
