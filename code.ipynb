{
 "cells": [
  {
   "cell_type": "code",
   "execution_count": 1,
   "metadata": {},
   "outputs": [],
   "source": [
    "from igraph import *\n",
    "import numpy as np\n",
    "import pandas as pd"
   ]
  },
  {
   "cell_type": "markdown",
   "metadata": {},
   "source": [
    "### Read Graphs"
   ]
  },
  {
   "cell_type": "code",
   "execution_count": 5,
   "metadata": {},
   "outputs": [],
   "source": [
    "neural = Graph.Read('datasets/neural.gml')\n",
    "political = Graph.Read('datasets/political.gml')\n",
    "internet = Graph.Read('datasets/internet.gml')\n",
    "collab = Graph.Read('datasets/collab.gml')"
   ]
  },
  {
   "cell_type": "markdown",
   "metadata": {},
   "source": [
    "The fourth graph I have chosen i contains the collaboration network of scientists posting preprints on the high-energy theory archive at www.arxiv.org, 1995-1999, as compiled by M. Newman.  The network is weighted, with weights assigned as described in the original papers.\n",
    "\n",
    "The url for the dataset is: http://www-personal.umich.edu/~mejn/netdata/hep-th.zip"
   ]
  },
  {
   "cell_type": "markdown",
   "metadata": {},
   "source": [
    "### Report the node which has highest score for following measures\n",
    "\n",
    "* Degree\n",
    "* Eccentricity\n",
    "* Closeness\n",
    "* Betweenness\n",
    "* Katz index\n",
    "* PageRank\n",
    "* Kleinberg’s Authority score\n",
    "* Kleinberg’s Hub score."
   ]
  },
  {
   "cell_type": "code",
   "execution_count": 19,
   "metadata": {},
   "outputs": [],
   "source": [
    "# Name of network\n",
    "Network = [\n",
    "    \"Neural network\",\n",
    "    \"Political blogs\",\n",
    "    \"Internet\",\n",
    "    \"Collaborations\"\n",
    "]"
   ]
  },
  {
   "cell_type": "code",
   "execution_count": 20,
   "metadata": {},
   "outputs": [],
   "source": [
    "# Degree\n",
    "Degree = [\n",
    "    neural.degree().index(max(neural.degree())),\n",
    "    political.degree().index(max(political.degree())),\n",
    "    internet.degree().index(max(internet.degree())),\n",
    "    collab.degree().index(max(collab.degree()))\n",
    "]"
   ]
  },
  {
   "cell_type": "code",
   "execution_count": 22,
   "metadata": {},
   "outputs": [],
   "source": [
    "# Eccentricity\n",
    "Eccentricity = [\n",
    "    neural.eccentricity().index(max(neural.eccentricity())),\n",
    "    political.eccentricity().index(max(political.eccentricity())),\n",
    "    internet.eccentricity().index(max(internet.eccentricity())),\n",
    "    collab.eccentricity().index(max(collab.eccentricity()))\n",
    "]"
   ]
  },
  {
   "cell_type": "code",
   "execution_count": 23,
   "metadata": {},
   "outputs": [],
   "source": [
    "#Closeness\n",
    "Closeness = [\n",
    "    neural.closeness().index(max(neural.closeness())),\n",
    "    political.closeness().index(max(political.closeness())),\n",
    "    internet.closeness().index(max(internet.closeness())),\n",
    "    collab.closeness().index(max(collab.closeness()))\n",
    "]"
   ]
  },
  {
   "cell_type": "code",
   "execution_count": 24,
   "metadata": {},
   "outputs": [],
   "source": [
    "# Betweenness\n",
    "Betweenness = [\n",
    "    neural.betweenness().index(max(neural.betweenness())),\n",
    "    political.betweenness().index(max(political.betweenness())),\n",
    "    internet.betweenness().index(max(internet.betweenness())),\n",
    "    collab.betweenness().index(max(collab.betweenness()))\n",
    "]"
   ]
  },
  {
   "cell_type": "code",
   "execution_count": 35,
   "metadata": {},
   "outputs": [],
   "source": [
    "# Katz index\n",
    "Katz_index = [\n",
    "    None,\n",
    "    None,\n",
    "    None,\n",
    "    None\n",
    "]"
   ]
  },
  {
   "cell_type": "code",
   "execution_count": 27,
   "metadata": {},
   "outputs": [],
   "source": [
    "# PageRank\n",
    "PageRank = [\n",
    "    neural.pagerank().index(max(neural.pagerank())),\n",
    "    political.pagerank().index(max(political.pagerank())),\n",
    "    internet.pagerank().index(max(internet.pagerank())),\n",
    "    collab.pagerank().index(max(collab.pagerank()))\n",
    "]"
   ]
  },
  {
   "cell_type": "code",
   "execution_count": 31,
   "metadata": {},
   "outputs": [],
   "source": [
    "# Kleinberg’s Authority score\n",
    "Authority_score = [\n",
    "    neural.authority_score().index(max(neural.authority_score())),\n",
    "    political.authority_score().index(max(political.authority_score())),\n",
    "    internet.authority_score().index(max(internet.authority_score())),\n",
    "    collab.authority_score().index(max(collab.authority_score()))\n",
    "]"
   ]
  },
  {
   "cell_type": "code",
   "execution_count": 34,
   "metadata": {},
   "outputs": [],
   "source": [
    "# Kleinberg’s Hub score\n",
    "Hub_score = [\n",
    "    neural.hub_score().index(max(neural.hub_score())),\n",
    "    political.hub_score().index(max(political.hub_score())),\n",
    "    internet.hub_score().index(max(internet.hub_score())),\n",
    "    collab.hub_score().index(max(collab.hub_score()))\n",
    "]"
   ]
  },
  {
   "cell_type": "code",
   "execution_count": 36,
   "metadata": {},
   "outputs": [],
   "source": [
    "report_dict = [\n",
    "    ('Network', Network),\n",
    "    ('Degree', Degree),\n",
    "    ('Eccentricity', Eccentricity),\n",
    "    ('Closeness', Closeness),\n",
    "    ('Betweenness', Betweenness),\n",
    "    ('Katz index', Katz_index),\n",
    "    ('PageRank', PageRank),\n",
    "    ('Kleinberg’s Authority score', Authority_score),\n",
    "    ('Kleinberg’s Hub score', Hub_score)\n",
    "]"
   ]
  },
  {
   "cell_type": "code",
   "execution_count": 37,
   "metadata": {},
   "outputs": [
    {
     "name": "stderr",
     "output_type": "stream",
     "text": [
      "/anaconda3/envs/igraph/lib/python2.7/site-packages/ipykernel_launcher.py:1: FutureWarning: from_items is deprecated. Please use DataFrame.from_dict(dict(items), ...) instead. DataFrame.from_dict(OrderedDict(items)) may be used to preserve the key order.\n",
      "  \"\"\"Entry point for launching an IPython kernel.\n"
     ]
    }
   ],
   "source": [
    "report = pd.DataFrame.from_items(report_dict)"
   ]
  },
  {
   "cell_type": "code",
   "execution_count": 38,
   "metadata": {},
   "outputs": [
    {
     "data": {
      "text/html": [
       "<div>\n",
       "<style scoped>\n",
       "    .dataframe tbody tr th:only-of-type {\n",
       "        vertical-align: middle;\n",
       "    }\n",
       "\n",
       "    .dataframe tbody tr th {\n",
       "        vertical-align: top;\n",
       "    }\n",
       "\n",
       "    .dataframe thead th {\n",
       "        text-align: right;\n",
       "    }\n",
       "</style>\n",
       "<table border=\"1\" class=\"dataframe\">\n",
       "  <thead>\n",
       "    <tr style=\"text-align: right;\">\n",
       "      <th></th>\n",
       "      <th>Network</th>\n",
       "      <th>Degree</th>\n",
       "      <th>Eccentricity</th>\n",
       "      <th>Closeness</th>\n",
       "      <th>Betweenness</th>\n",
       "      <th>Katz index</th>\n",
       "      <th>PageRank</th>\n",
       "      <th>Kleinberg’s Authority score</th>\n",
       "      <th>Kleinberg’s Hub score</th>\n",
       "    </tr>\n",
       "  </thead>\n",
       "  <tbody>\n",
       "    <tr>\n",
       "      <th>0</th>\n",
       "      <td>Neural network</td>\n",
       "      <td>44</td>\n",
       "      <td>264</td>\n",
       "      <td>44</td>\n",
       "      <td>177</td>\n",
       "      <td>None</td>\n",
       "      <td>44</td>\n",
       "      <td>44</td>\n",
       "      <td>125</td>\n",
       "    </tr>\n",
       "    <tr>\n",
       "      <th>1</th>\n",
       "      <td>Political blogs</td>\n",
       "      <td>854</td>\n",
       "      <td>379</td>\n",
       "      <td>1050</td>\n",
       "      <td>854</td>\n",
       "      <td>None</td>\n",
       "      <td>154</td>\n",
       "      <td>154</td>\n",
       "      <td>511</td>\n",
       "    </tr>\n",
       "    <tr>\n",
       "      <th>2</th>\n",
       "      <td>Internet</td>\n",
       "      <td>3</td>\n",
       "      <td>9199</td>\n",
       "      <td>22</td>\n",
       "      <td>3</td>\n",
       "      <td>None</td>\n",
       "      <td>3</td>\n",
       "      <td>3</td>\n",
       "      <td>3</td>\n",
       "    </tr>\n",
       "    <tr>\n",
       "      <th>3</th>\n",
       "      <td>Collaborations</td>\n",
       "      <td>86</td>\n",
       "      <td>4779</td>\n",
       "      <td>167</td>\n",
       "      <td>23</td>\n",
       "      <td>None</td>\n",
       "      <td>86</td>\n",
       "      <td>6789</td>\n",
       "      <td>6789</td>\n",
       "    </tr>\n",
       "  </tbody>\n",
       "</table>\n",
       "</div>"
      ],
      "text/plain": [
       "           Network  Degree  Eccentricity  Closeness  Betweenness Katz index  \\\n",
       "0   Neural network      44           264         44          177       None   \n",
       "1  Political blogs     854           379       1050          854       None   \n",
       "2         Internet       3          9199         22            3       None   \n",
       "3   Collaborations      86          4779        167           23       None   \n",
       "\n",
       "   PageRank  Kleinberg’s Authority score  Kleinberg’s Hub score  \n",
       "0        44                           44                    125  \n",
       "1       154                          154                    511  \n",
       "2         3                            3                      3  \n",
       "3        86                         6789                   6789  "
      ]
     },
     "execution_count": 38,
     "metadata": {},
     "output_type": "execute_result"
    }
   ],
   "source": [
    "report"
   ]
  },
  {
   "cell_type": "markdown",
   "metadata": {},
   "source": [
    "### Generate random graphs"
   ]
  },
  {
   "cell_type": "code",
   "execution_count": 3,
   "metadata": {},
   "outputs": [],
   "source": [
    "erdos20 = Graph.Erdos_Renyi(n = 20, m = 80)\n",
    "erdos40 = Graph.Erdos_Renyi(n = 40, m = 120)\n",
    "barabasi20 = Graph.Barabasi(n = 20, m = 5, directed = False)\n",
    "barabasi40 = Graph.Barabasi(n = 40, m = 3, directed = False)"
   ]
  },
  {
   "cell_type": "code",
   "execution_count": 12,
   "metadata": {},
   "outputs": [],
   "source": [
    "# Calculate laplacians\n",
    "erdos20_lap = erdos20.laplacian()\n",
    "erdos40_lap = erdos40.laplacian()\n",
    "barabasi20_lap = barabasi20.laplacian()\n",
    "barabasi40_lap = barabasi40.laplacian()"
   ]
  },
  {
   "cell_type": "code",
   "execution_count": 14,
   "metadata": {},
   "outputs": [],
   "source": [
    "# Calculate eigen values and eigen vectors\n",
    "erdos20_vals, erdos20_vec = np.linalg.eig(erdos20_lap)\n",
    "erdos40_vals, erdos40_vec = np.linalg.eig(erdos40_lap)\n",
    "barabasi20_vals, barabasi20_vec = np.linalg.eig(barabasi20_lap)\n",
    "barabasi40_vals, barabasi40_vec = np.linalg.eig(barabasi40_lap)"
   ]
  },
  {
   "cell_type": "markdown",
   "metadata": {},
   "source": [
    "### Report the following\n",
    "\n",
    "* Number of nodes \n",
    "* Number of edges \n",
    "* Minimum degree\n",
    "* Maximum degree \n",
    "* Average path length\n",
    "* Diameter\n",
    "* Global clustering coefficient\n",
    "* Second smallest eigenvalue \n",
    "* Largest eigenvalue"
   ]
  },
  {
   "cell_type": "code",
   "execution_count": 15,
   "metadata": {},
   "outputs": [],
   "source": [
    "# Name of graph\n",
    "Graph = [\n",
    "    'Erdos-Renyi 20',\n",
    "    'Erdos-Renyi 40',\n",
    "    'Barabasi 20',\n",
    "    'Barabasi 40'\n",
    "]"
   ]
  },
  {
   "cell_type": "code",
   "execution_count": 16,
   "metadata": {},
   "outputs": [],
   "source": [
    "# Number of nodes\n",
    "Nodes = [\n",
    "    erdos20.vcount(),\n",
    "    erdos40.vcount(),\n",
    "    barabasi20.vcount(),\n",
    "    barabasi40.vcount()\n",
    "]"
   ]
  },
  {
   "cell_type": "code",
   "execution_count": 17,
   "metadata": {},
   "outputs": [],
   "source": [
    "# Number of edges\n",
    "Edges = [\n",
    "    erdos20.ecount(),\n",
    "    erdos40.ecount(),\n",
    "    barabasi20.ecount(),\n",
    "    barabasi40.ecount()\n",
    "]"
   ]
  },
  {
   "cell_type": "code",
   "execution_count": 23,
   "metadata": {},
   "outputs": [],
   "source": [
    "# Minimum degree\n",
    "MinDegree = [\n",
    "    min(erdos20.degree()),\n",
    "    min(erdos40.degree()),\n",
    "    min(barabasi20.degree()),\n",
    "    min(barabasi40.degree())\n",
    "]"
   ]
  },
  {
   "cell_type": "code",
   "execution_count": 24,
   "metadata": {},
   "outputs": [],
   "source": [
    "# Maximum degree\n",
    "MaxDegree = [\n",
    "    erdos20.maxdegree(),\n",
    "    erdos40.maxdegree(),\n",
    "    barabasi20.maxdegree(),\n",
    "    barabasi40.maxdegree()\n",
    "]"
   ]
  },
  {
   "cell_type": "code",
   "execution_count": 25,
   "metadata": {},
   "outputs": [],
   "source": [
    "# Average path length\n",
    "AvgPathLength = [\n",
    "    erdos20.average_path_length(),\n",
    "    erdos40.average_path_length(),\n",
    "    barabasi20.average_path_length(),\n",
    "    barabasi40.average_path_length()\n",
    "]"
   ]
  },
  {
   "cell_type": "code",
   "execution_count": 26,
   "metadata": {},
   "outputs": [],
   "source": [
    "# Global clustering coefficient\n",
    "GlobalClusteringCoefficient = [\n",
    "    erdos20.transitivity_undirected(),\n",
    "    erdos40.transitivity_undirected(),\n",
    "    barabasi20.transitivity_undirected(),\n",
    "    barabasi40.transitivity_undirected()\n",
    "]"
   ]
  },
  {
   "cell_type": "code",
   "execution_count": 36,
   "metadata": {},
   "outputs": [],
   "source": [
    "# Second smallest eigen value\n",
    "SmallEigValue = [\n",
    "    np.sort(erdos20_vals)[1],\n",
    "    np.sort(erdos40_vals)[1],\n",
    "    np.sort(barabasi20_vals)[1],\n",
    "    np.sort(barabasi40_vals)[1]\n",
    "]"
   ]
  },
  {
   "cell_type": "code",
   "execution_count": 34,
   "metadata": {},
   "outputs": [],
   "source": [
    "# Largest eigen value\n",
    "BigEigValue = [\n",
    "    np.amax(erdos20_vals),\n",
    "    np.amax(erdos40_vals),\n",
    "    np.amax(barabasi20_vals),\n",
    "    np.amax(barabasi40_vals)\n",
    "]"
   ]
  },
  {
   "cell_type": "code",
   "execution_count": 37,
   "metadata": {},
   "outputs": [],
   "source": [
    "report_dict = [\n",
    "    ('Network', Graph),\n",
    "    ('Number of nodes', Nodes),\n",
    "    ('Number of edges', Edges),\n",
    "    ('Minimum Degree', MinDegree),\n",
    "    ('Maximum Degree', MaxDegree),\n",
    "    ('Average Path Length', AvgPathLength),\n",
    "    ('Global Clustering Coefficient', GlobalClusteringCoefficient),\n",
    "    ('Second Smallest Eigen Value', SmallEigValue),\n",
    "    ('Largest Eigen Value', BigEigValue)\n",
    "]"
   ]
  },
  {
   "cell_type": "code",
   "execution_count": 38,
   "metadata": {},
   "outputs": [
    {
     "name": "stderr",
     "output_type": "stream",
     "text": [
      "c:\\users\\krupal.jadhav\\appdata\\local\\continuum\\miniconda3\\envs\\igraph\\lib\\site-packages\\ipykernel_launcher.py:1: FutureWarning: from_items is deprecated. Please use DataFrame.from_dict(dict(items), ...) instead. DataFrame.from_dict(OrderedDict(items)) may be used to preserve the key order.\n",
      "  \"\"\"Entry point for launching an IPython kernel.\n"
     ]
    }
   ],
   "source": [
    "report = pd.DataFrame.from_items(report_dict)"
   ]
  },
  {
   "cell_type": "code",
   "execution_count": 39,
   "metadata": {},
   "outputs": [
    {
     "data": {
      "text/html": [
       "<div>\n",
       "<style scoped>\n",
       "    .dataframe tbody tr th:only-of-type {\n",
       "        vertical-align: middle;\n",
       "    }\n",
       "\n",
       "    .dataframe tbody tr th {\n",
       "        vertical-align: top;\n",
       "    }\n",
       "\n",
       "    .dataframe thead th {\n",
       "        text-align: right;\n",
       "    }\n",
       "</style>\n",
       "<table border=\"1\" class=\"dataframe\">\n",
       "  <thead>\n",
       "    <tr style=\"text-align: right;\">\n",
       "      <th></th>\n",
       "      <th>Network</th>\n",
       "      <th>Number of nodes</th>\n",
       "      <th>Number of edges</th>\n",
       "      <th>Minimum Degree</th>\n",
       "      <th>Maximum Degree</th>\n",
       "      <th>Average Path Length</th>\n",
       "      <th>Global Clustering Coefficient</th>\n",
       "      <th>Second Smallest Eigen Value</th>\n",
       "      <th>Largest Eigen Value</th>\n",
       "    </tr>\n",
       "  </thead>\n",
       "  <tbody>\n",
       "    <tr>\n",
       "      <th>0</th>\n",
       "      <td>Erdos-Renyi 20</td>\n",
       "      <td>20</td>\n",
       "      <td>80</td>\n",
       "      <td>5</td>\n",
       "      <td>12</td>\n",
       "      <td>1.589474</td>\n",
       "      <td>0.412252</td>\n",
       "      <td>3.594524</td>\n",
       "      <td>14.083235</td>\n",
       "    </tr>\n",
       "    <tr>\n",
       "      <th>1</th>\n",
       "      <td>Erdos-Renyi 40</td>\n",
       "      <td>40</td>\n",
       "      <td>120</td>\n",
       "      <td>3</td>\n",
       "      <td>11</td>\n",
       "      <td>2.197436</td>\n",
       "      <td>0.144796</td>\n",
       "      <td>1.501584</td>\n",
       "      <td>13.221036</td>\n",
       "    </tr>\n",
       "    <tr>\n",
       "      <th>2</th>\n",
       "      <td>Barabasi 20</td>\n",
       "      <td>20</td>\n",
       "      <td>85</td>\n",
       "      <td>5</td>\n",
       "      <td>18</td>\n",
       "      <td>1.552632</td>\n",
       "      <td>0.519298</td>\n",
       "      <td>4.058273</td>\n",
       "      <td>19.051443</td>\n",
       "    </tr>\n",
       "    <tr>\n",
       "      <th>3</th>\n",
       "      <td>Barabasi 40</td>\n",
       "      <td>40</td>\n",
       "      <td>114</td>\n",
       "      <td>3</td>\n",
       "      <td>26</td>\n",
       "      <td>2.015385</td>\n",
       "      <td>0.224799</td>\n",
       "      <td>1.402212</td>\n",
       "      <td>27.106305</td>\n",
       "    </tr>\n",
       "  </tbody>\n",
       "</table>\n",
       "</div>"
      ],
      "text/plain": [
       "          Network  Number of nodes  Number of edges  Minimum Degree  \\\n",
       "0  Erdos-Renyi 20               20               80               5   \n",
       "1  Erdos-Renyi 40               40              120               3   \n",
       "2     Barabasi 20               20               85               5   \n",
       "3     Barabasi 40               40              114               3   \n",
       "\n",
       "   Maximum Degree  Average Path Length  Global Clustering Coefficient  \\\n",
       "0              12             1.589474                       0.412252   \n",
       "1              11             2.197436                       0.144796   \n",
       "2              18             1.552632                       0.519298   \n",
       "3              26             2.015385                       0.224799   \n",
       "\n",
       "   Second Smallest Eigen Value  Largest Eigen Value  \n",
       "0                     3.594524            14.083235  \n",
       "1                     1.501584            13.221036  \n",
       "2                     4.058273            19.051443  \n",
       "3                     1.402212            27.106305  "
      ]
     },
     "execution_count": 39,
     "metadata": {},
     "output_type": "execute_result"
    }
   ],
   "source": [
    "report"
   ]
  },
  {
   "cell_type": "code",
   "execution_count": null,
   "metadata": {},
   "outputs": [],
   "source": []
  }
 ],
 "metadata": {
  "kernelspec": {
   "display_name": "Python 2",
   "language": "python",
   "name": "python2"
  },
  "language_info": {
   "codemirror_mode": {
    "name": "ipython",
    "version": 2
   },
   "file_extension": ".py",
   "mimetype": "text/x-python",
   "name": "python",
   "nbconvert_exporter": "python",
   "pygments_lexer": "ipython2",
   "version": "2.7.15"
  }
 },
 "nbformat": 4,
 "nbformat_minor": 2
}
